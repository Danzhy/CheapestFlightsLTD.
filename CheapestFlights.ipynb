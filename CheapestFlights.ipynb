{
  "nbformat": 4,
  "nbformat_minor": 0,
  "metadata": {
    "colab": {
      "provenance": [],
      "authorship_tag": "ABX9TyOdGBt5UixgdjP7F9toSAbN",
      "include_colab_link": true
    },
    "kernelspec": {
      "name": "python3",
      "display_name": "Python 3"
    },
    "language_info": {
      "name": "python"
    }
  },
  "cells": [
    {
      "cell_type": "markdown",
      "metadata": {
        "id": "view-in-github",
        "colab_type": "text"
      },
      "source": [
        "<a href=\"https://colab.research.google.com/github/Danzhy/CheapestFlightsLTD./blob/main/CheapestFlights.ipynb\" target=\"_parent\"><img src=\"https://colab.research.google.com/assets/colab-badge.svg\" alt=\"Open In Colab\"/></a>"
      ]
    },
    {
      "cell_type": "markdown",
      "source": [
        "# Setting up authentication to work with Amadeus API\n",
        "\n",
        "Our team chose to work with the [Amadeus API](https://developers.amadeus.com/). This API allows developers to fetch data regarding plane tickets. There are many search types and filters that can be applied on plane ticket search like duration of stay, departure date, maximum price, etc. I chose a search that requires the user to input their origin city/airport so that API can show cheapest flights from that location.\n",
        "\n",
        "This application works with two APIs - Amadeus API for plane tickets and Currencybeacon API for currency exchange.\n",
        "\n",
        "Amadeus API requires developers to obtain access token by making a POST request for the purpose of using their API functionality.\n",
        "\n",
        "The POST request must contain:\n",
        "\n",
        "*   API key\n",
        "*   API secret\n",
        "\n",
        "\n",
        "The following code snippet is designed to obtain access token and save it as a global variable \"access_token\""
      ],
      "metadata": {
        "id": "DRv-TGFRygCS"
      }
    },
    {
      "cell_type": "code",
      "execution_count": 35,
      "metadata": {
        "id": "L57-MsQiT5_4"
      },
      "outputs": [],
      "source": [
        "from google.colab import userdata\n",
        "import requests\n",
        "\n",
        "#According to documentation, this url is used to get access token.\n",
        "#Access token is necessary to work with this flight tickets api.\n",
        "token_url = \"https://test.api.amadeus.com/v1/security/oauth2/token\"\n",
        "\n",
        "#Getting api key and api secret\n",
        "#This key and this secret are from the Amadeus API to fetch plane ticket data\n",
        "key_flight = userdata.get('FLIGHT')\n",
        "secret_flight = userdata.get('FLIGHT_SECRET')\n",
        "\n",
        "#necessary to include header\n",
        "headers_flight = {\n",
        "    \"Content-Type\": \"application/x-www-form-urlencoded\"\n",
        "}\n",
        "\n",
        "#necessary to include information to get access token\n",
        "data = {\n",
        "    \"grant_type\": \"client_credentials\",\n",
        "    \"client_id\": key_flight,\n",
        "    \"client_secret\": secret_flight\n",
        "}\n",
        "\n",
        "#saving access token in the global variable \"access_token\"\n",
        "response = requests.post(token_url, headers = headers_flight, data = data)\n",
        "token_response = response.json()\n",
        "access_token = token_response['access_token']"
      ]
    },
    {
      "cell_type": "markdown",
      "source": [],
      "metadata": {
        "id": "pLwk-UPz1skL"
      }
    },
    {
      "cell_type": "markdown",
      "source": [
        "#Functions for API requests\n",
        "\n",
        "**Function get_flight(origin_city)**\n",
        "\n",
        "*   ListIt makes an API request to the Amadeus API. It takes an IATA code as variable and incorporates it in the API request url.\n",
        "*   In the header of the request we put access token.\n",
        "\n",
        "\n",
        "*   This function, in case of successful request, returns a json file with file tickets information\n",
        "\n",
        "\n",
        "\n",
        "**Function exchange_currency(ororig_curr, dest_curr = 'AED', amount = '100')**\n",
        "\n",
        "\n",
        "\n",
        "*   It makes an API request to the Currencybeacon API. It takes two currency types and amount as variables\n",
        "*   In case of successful request, function returns a json file that contains the new amount based on exchange rate\n",
        "\n",
        "\n",
        "\n"
      ],
      "metadata": {
        "id": "zYPjkmLCVTsR"
      }
    },
    {
      "cell_type": "code",
      "source": [
        "import requests\n",
        "\n",
        "def get_flight(origin_city):\n",
        "  header_auth = \"Bearer \" + access_token #global access_token variable is appended to Bearer for authentication\n",
        "\n",
        "  #Url of the request, where origin city/airport depends on user input\n",
        "  base_url = f\"https://test.api.amadeus.com/v1/shopping/flight-destinations?origin={origin_city}\"\n",
        "  headers_get = {\n",
        "      \"Authorization\": header_auth\n",
        "  }\n",
        "\n",
        "  get_response = requests.get(base_url, headers = headers_get)\n",
        "\n",
        "  #To avoid errors .json() method is applied only in case of successful request and then returned\n",
        "  if get_response.status_code == 200:\n",
        "    return get_response.json()\n",
        "  else:\n",
        "    return -1\n",
        "\n",
        "#Default values are needed for cheking validity of original currency\n",
        "def exchange_currency(orig_curr, dest_curr = 'AED', amount = '100'):\n",
        "\n",
        "  #API key for currencybeacon API\n",
        "  key_exchange = userdata.get('CURRENCY')\n",
        "\n",
        "  url_curr = \"https://api.currencybeacon.com/v1/convert\"\n",
        "\n",
        "  params_curr = {\n",
        "      \"api_key\": key_exchange,\n",
        "      \"from\": orig_curr,\n",
        "      \"to\": dest_curr,\n",
        "      \"amount\": amount\n",
        "  }\n",
        "\n",
        "  get_response = requests.get(url_curr, params = params_curr)\n",
        "\n",
        "  #To avoid errors .json() method is applied only in case of successful request and then returned\n",
        "  if get_response.status_code == 200:\n",
        "    return get_response.json()\n",
        "  else:\n",
        "    return -1\n",
        "\n",
        "\n"
      ],
      "metadata": {
        "id": "vOl2JyskQ9fe"
      },
      "execution_count": 31,
      "outputs": []
    },
    {
      "cell_type": "markdown",
      "source": [
        "#Execution of the application\n",
        "\n",
        "In this code snippet is responsible for interactions with user, and calling API request functions.\n",
        "\n",
        "User is promted to select desired currency and origin city (city a they want to fly from). Based on this information, the programm will output 5 cheapest plane tickets from this origin_city to any other destination."
      ],
      "metadata": {
        "id": "qPFWlwVXaJdx"
      }
    },
    {
      "cell_type": "code",
      "source": [
        "import json\n",
        "\n",
        "print(\"Hi! This program helps you find cheapest flights originating in your city!\")\n",
        "\n",
        "#The program initially asks user to input currency type (USD, EUR, etc.) that user is comfortable with\n",
        "#The while loop is needed to check if the entered currency exists/written correctly\n",
        "check = True\n",
        "global currency\n",
        "while(check):\n",
        "  currency = input(\"First of all, please enter currency that you want us to use (USD, EUR, AED, CNY, etc.)\\n\")\n",
        "\n",
        "  if (exchange_currency(currency) == -1):\n",
        "    print(\"There is no such currency! Please enter a valid currency!\")\n",
        "\n",
        "  else:\n",
        "    check = False\n",
        "\n",
        "#This input prompts the user to enter the IATA code to make an API call\n",
        "origin = input(\"Please enter the IATA code of your origin city or airport.\\n\" \"For example, LON is code for London, and ICN is a code for Incheon airport.\\n\")\n",
        "\n",
        "#In this variable the json file with plane tickets is saved\n",
        "flight_list = get_flight(origin)\n",
        "\n",
        "\n",
        "#With if statement we check if the request was successful. Only in case of success we print the plane tickets.\n",
        "#This prevents the error of trying to access undefined data with flight_list['data'][:5]\n",
        "if(flight_list != -1):\n",
        "# Loop over the first 5 flight destinations and print their details\n",
        "  for i, ticket in enumerate(flight_list['data'][:5]):\n",
        "    exchanged = exchange_currency('EUR', currency, ticket['price']['total'])\n",
        "    newPrice = exchanged['response']['value']\n",
        "\n",
        "    print(f\"Ticket {i + 1}:\")\n",
        "    print(f\"Origin: {ticket['origin']}\")\n",
        "    print(f\"Destination: {ticket['destination']}\")\n",
        "    print(f\"Departure Date: {ticket['departureDate']}\")\n",
        "    print(f\"Return Date: {ticket['returnDate']}\")\n",
        "    print(f\"Price: {round(newPrice, 2)} {currency}\")\n",
        "    print()\n",
        "\n",
        "else:\n",
        "  print(\"Sorry, you entered incorrect city/airport code!\")"
      ],
      "metadata": {
        "colab": {
          "base_uri": "https://localhost:8080/"
        },
        "id": "aNlJzwoJXnW9",
        "outputId": "622ab6d8-28ad-4043-d594-ace5dd80f065"
      },
      "execution_count": 34,
      "outputs": [
        {
          "output_type": "stream",
          "name": "stdout",
          "text": [
            "Hi! This program helps you find cheapest flights originating in your city!\n",
            "First of all, please enter currency that you want us to use (USD, EUR, AED, CNY, etc.)\n",
            "XCV\n",
            "There is no such currency! Please enter a valid currency!\n",
            "First of all, please enter currency that you want us to use (USD, EUR, AED, CNY, etc.)\n",
            "13\n",
            "There is no such currency! Please enter a valid currency!\n",
            "First of all, please enter currency that you want us to use (USD, EUR, AED, CNY, etc.)\n",
            "AED\n",
            "Please enter the IATA code of your city or airport.\n",
            "For example, LON is code for London, and ICN is a code for Incheon airport.\n",
            "AFDXC\n",
            "Sorry, you entered incorrect city/airport code!\n"
          ]
        }
      ]
    },
    {
      "cell_type": "code",
      "source": [],
      "metadata": {
        "id": "MYF1ws2cceDE"
      },
      "execution_count": null,
      "outputs": []
    }
  ]
}